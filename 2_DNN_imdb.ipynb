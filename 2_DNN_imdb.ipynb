{
  "nbformat": 4,
  "nbformat_minor": 0,
  "metadata": {
    "colab": {
      "provenance": []
    },
    "kernelspec": {
      "name": "python3",
      "display_name": "Python 3"
    },
    "language_info": {
      "name": "python"
    }
  },
  "cells": [
    {
      "cell_type": "markdown",
      "source": [
        "PS: Classification using Deep neural network - Binary classification using Deep Neural Networks Example: Classify movie reviews into positive\" reviews and \"negative\" reviews, just based on the text content of the reviews. Use IMDB dataset"
      ],
      "metadata": {
        "id": "UbAbLHSPmu3G"
      }
    },
    {
      "cell_type": "code",
      "source": [
        "import numpy as np\n",
        "from tensorflow import keras\n",
        "from tensorflow.keras.datasets import imdb\n",
        "from tensorflow.keras.models import Sequential\n",
        "from tensorflow.keras.layers import Dense, Embedding, LSTM, SpatialDropout1D\n",
        "from tensorflow.keras.preprocessing import sequence\n",
        "\n",
        "\n",
        "max_features = 5000  # here features as in number of words to consider; dataset importing ke liye\n",
        "maxlen = 100  #  maximum length of each sequence; konsa data consider karna hai\n",
        "batch_size = 32\n",
        "epochs = 5\n",
        "\n",
        "\n",
        "(x_train, y_train), (x_test, y_test) = imdb.load_data(num_words=max_features)\n"
      ],
      "metadata": {
        "id": "BbSae1Jr-O8c",
        "outputId": "8982fe11-867c-42c5-b76f-144dd9fa43ae",
        "colab": {
          "base_uri": "https://localhost:8080/"
        }
      },
      "execution_count": 1,
      "outputs": [
        {
          "output_type": "stream",
          "name": "stdout",
          "text": [
            "Downloading data from https://storage.googleapis.com/tensorflow/tf-keras-datasets/imdb.npz\n",
            "17464789/17464789 [==============================] - 0s 0us/step\n"
          ]
        }
      ]
    },
    {
      "cell_type": "code",
      "source": [
        "x_train = sequence.pad_sequences(x_train, maxlen=maxlen)\n",
        "x_test = sequence.pad_sequences(x_test, maxlen=maxlen)\n",
        "\n",
        "\n",
        "model = Sequential()\n",
        "model.add(Embedding(max_features, 128, input_length=maxlen))\n",
        "model.add(LSTM(128, dropout=0.2, recurrent_dropout=0.2))\n",
        "model.add(Dense(1, activation='sigmoid'))\n",
        "\n",
        "model.compile(loss='binary_crossentropy', optimizer='adam', metrics=['accuracy'])\n",
        "\n",
        "\n",
        "model.fit(x_train, y_train, batch_size=batch_size, epochs=epochs)\n",
        "\n",
        "\n",
        "score, acc = model.evaluate(x_test, y_test, batch_size=batch_size)\n",
        "print('Test score:', score)\n",
        "print('Test accuracy:', acc)\n"
      ],
      "metadata": {
        "id": "ghe9Kq4_-P5o",
        "colab": {
          "base_uri": "https://localhost:8080/"
        },
        "outputId": "d47684a7-ef71-4529-e4e1-495ad27072ec"
      },
      "execution_count": 2,
      "outputs": [
        {
          "output_type": "stream",
          "name": "stdout",
          "text": [
            "Epoch 1/5\n",
            "782/782 [==============================] - 240s 301ms/step - loss: 0.4433 - accuracy: 0.7932\n",
            "Epoch 2/5\n",
            "782/782 [==============================] - 233s 299ms/step - loss: 0.3029 - accuracy: 0.8729\n",
            "Epoch 3/5\n",
            "782/782 [==============================] - 233s 298ms/step - loss: 0.2433 - accuracy: 0.9031\n",
            "Epoch 4/5\n",
            "782/782 [==============================] - 234s 299ms/step - loss: 0.2024 - accuracy: 0.9204\n",
            "Epoch 5/5\n",
            "782/782 [==============================] - 234s 299ms/step - loss: 0.1588 - accuracy: 0.9400\n",
            "782/782 [==============================] - 32s 41ms/step - loss: 0.4496 - accuracy: 0.8180\n",
            "Test score: 0.44955965876579285\n",
            "Test accuracy: 0.8179600238800049\n"
          ]
        }
      ]
    },
    {
      "cell_type": "code",
      "source": [],
      "metadata": {
        "id": "X2Ig6V5sUxGa"
      },
      "execution_count": null,
      "outputs": []
    }
  ]
}