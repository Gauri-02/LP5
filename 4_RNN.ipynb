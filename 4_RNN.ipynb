{
  "nbformat": 4,
  "nbformat_minor": 0,
  "metadata": {
    "colab": {
      "provenance": []
    },
    "kernelspec": {
      "name": "python3",
      "display_name": "Python 3"
    },
    "language_info": {
      "name": "python"
    }
  },
  "cells": [
    {
      "cell_type": "markdown",
      "source": [
        "PS: Recurrent neural network (RNN) Use the Google stock prices dataset and design a time series analysis and prediction system using RNN."
      ],
      "metadata": {
        "id": "MBQZz3rsqzPx"
      }
    },
    {
      "cell_type": "code",
      "execution_count": null,
      "metadata": {
        "id": "0mi3A5T_qyR7"
      },
      "outputs": [],
      "source": [
        "import numpy as np\n",
        "import matplotlib.pyplot as plt\n",
        "import pandas as pd\n",
        "from sklearn.preprocessing import MinMaxScaler\n",
        "from tensorflow.keras.models import Sequential\n",
        "from tensorflow.keras.layers import LSTM, Dense, Dropout"
      ]
    },
    {
      "cell_type": "code",
      "source": [
        "dataset_train = pd.read_csv('https://raw.githubusercontent.com/PROxZIMA/Academic-Codes/master/Semester%208/LP5/DL/4/Google_Stock_Price_Train.csv')\n",
        "dataset_train.head()"
      ],
      "metadata": {
        "colab": {
          "base_uri": "https://localhost:8080/",
          "height": 206
        },
        "id": "hQx7V5QLsGu2",
        "outputId": "1ed0ca53-a24b-4b63-b114-7efa06770f49"
      },
      "execution_count": null,
      "outputs": [
        {
          "output_type": "execute_result",
          "data": {
            "text/plain": [
              "         Date    Open    High     Low   Close      Volume\n",
              "0  01/03/2012  325.25  332.83  324.97  663.59   7,380,500\n",
              "1  01/04/2012  331.27  333.87  329.08  666.45   5,749,400\n",
              "2  01/05/2012  329.83  330.75  326.89  657.21   6,590,300\n",
              "3  01/06/2012  328.34  328.77  323.68  648.24   5,405,900\n",
              "4  01/09/2012  322.04  322.29  309.46  620.76  11,688,800"
            ],
            "text/html": [
              "\n",
              "  <div id=\"df-5b5e2eea-86ed-449e-af5c-2561ffa21eae\" class=\"colab-df-container\">\n",
              "    <div>\n",
              "<style scoped>\n",
              "    .dataframe tbody tr th:only-of-type {\n",
              "        vertical-align: middle;\n",
              "    }\n",
              "\n",
              "    .dataframe tbody tr th {\n",
              "        vertical-align: top;\n",
              "    }\n",
              "\n",
              "    .dataframe thead th {\n",
              "        text-align: right;\n",
              "    }\n",
              "</style>\n",
              "<table border=\"1\" class=\"dataframe\">\n",
              "  <thead>\n",
              "    <tr style=\"text-align: right;\">\n",
              "      <th></th>\n",
              "      <th>Date</th>\n",
              "      <th>Open</th>\n",
              "      <th>High</th>\n",
              "      <th>Low</th>\n",
              "      <th>Close</th>\n",
              "      <th>Volume</th>\n",
              "    </tr>\n",
              "  </thead>\n",
              "  <tbody>\n",
              "    <tr>\n",
              "      <th>0</th>\n",
              "      <td>01/03/2012</td>\n",
              "      <td>325.25</td>\n",
              "      <td>332.83</td>\n",
              "      <td>324.97</td>\n",
              "      <td>663.59</td>\n",
              "      <td>7,380,500</td>\n",
              "    </tr>\n",
              "    <tr>\n",
              "      <th>1</th>\n",
              "      <td>01/04/2012</td>\n",
              "      <td>331.27</td>\n",
              "      <td>333.87</td>\n",
              "      <td>329.08</td>\n",
              "      <td>666.45</td>\n",
              "      <td>5,749,400</td>\n",
              "    </tr>\n",
              "    <tr>\n",
              "      <th>2</th>\n",
              "      <td>01/05/2012</td>\n",
              "      <td>329.83</td>\n",
              "      <td>330.75</td>\n",
              "      <td>326.89</td>\n",
              "      <td>657.21</td>\n",
              "      <td>6,590,300</td>\n",
              "    </tr>\n",
              "    <tr>\n",
              "      <th>3</th>\n",
              "      <td>01/06/2012</td>\n",
              "      <td>328.34</td>\n",
              "      <td>328.77</td>\n",
              "      <td>323.68</td>\n",
              "      <td>648.24</td>\n",
              "      <td>5,405,900</td>\n",
              "    </tr>\n",
              "    <tr>\n",
              "      <th>4</th>\n",
              "      <td>01/09/2012</td>\n",
              "      <td>322.04</td>\n",
              "      <td>322.29</td>\n",
              "      <td>309.46</td>\n",
              "      <td>620.76</td>\n",
              "      <td>11,688,800</td>\n",
              "    </tr>\n",
              "  </tbody>\n",
              "</table>\n",
              "</div>\n",
              "    <div class=\"colab-df-buttons\">\n",
              "\n",
              "  <div class=\"colab-df-container\">\n",
              "    <button class=\"colab-df-convert\" onclick=\"convertToInteractive('df-5b5e2eea-86ed-449e-af5c-2561ffa21eae')\"\n",
              "            title=\"Convert this dataframe to an interactive table.\"\n",
              "            style=\"display:none;\">\n",
              "\n",
              "  <svg xmlns=\"http://www.w3.org/2000/svg\" height=\"24px\" viewBox=\"0 -960 960 960\">\n",
              "    <path d=\"M120-120v-720h720v720H120Zm60-500h600v-160H180v160Zm220 220h160v-160H400v160Zm0 220h160v-160H400v160ZM180-400h160v-160H180v160Zm440 0h160v-160H620v160ZM180-180h160v-160H180v160Zm440 0h160v-160H620v160Z\"/>\n",
              "  </svg>\n",
              "    </button>\n",
              "\n",
              "  <style>\n",
              "    .colab-df-container {\n",
              "      display:flex;\n",
              "      gap: 12px;\n",
              "    }\n",
              "\n",
              "    .colab-df-convert {\n",
              "      background-color: #E8F0FE;\n",
              "      border: none;\n",
              "      border-radius: 50%;\n",
              "      cursor: pointer;\n",
              "      display: none;\n",
              "      fill: #1967D2;\n",
              "      height: 32px;\n",
              "      padding: 0 0 0 0;\n",
              "      width: 32px;\n",
              "    }\n",
              "\n",
              "    .colab-df-convert:hover {\n",
              "      background-color: #E2EBFA;\n",
              "      box-shadow: 0px 1px 2px rgba(60, 64, 67, 0.3), 0px 1px 3px 1px rgba(60, 64, 67, 0.15);\n",
              "      fill: #174EA6;\n",
              "    }\n",
              "\n",
              "    .colab-df-buttons div {\n",
              "      margin-bottom: 4px;\n",
              "    }\n",
              "\n",
              "    [theme=dark] .colab-df-convert {\n",
              "      background-color: #3B4455;\n",
              "      fill: #D2E3FC;\n",
              "    }\n",
              "\n",
              "    [theme=dark] .colab-df-convert:hover {\n",
              "      background-color: #434B5C;\n",
              "      box-shadow: 0px 1px 3px 1px rgba(0, 0, 0, 0.15);\n",
              "      filter: drop-shadow(0px 1px 2px rgba(0, 0, 0, 0.3));\n",
              "      fill: #FFFFFF;\n",
              "    }\n",
              "  </style>\n",
              "\n",
              "    <script>\n",
              "      const buttonEl =\n",
              "        document.querySelector('#df-5b5e2eea-86ed-449e-af5c-2561ffa21eae button.colab-df-convert');\n",
              "      buttonEl.style.display =\n",
              "        google.colab.kernel.accessAllowed ? 'block' : 'none';\n",
              "\n",
              "      async function convertToInteractive(key) {\n",
              "        const element = document.querySelector('#df-5b5e2eea-86ed-449e-af5c-2561ffa21eae');\n",
              "        const dataTable =\n",
              "          await google.colab.kernel.invokeFunction('convertToInteractive',\n",
              "                                                    [key], {});\n",
              "        if (!dataTable) return;\n",
              "\n",
              "        const docLinkHtml = 'Like what you see? Visit the ' +\n",
              "          '<a target=\"_blank\" href=https://colab.research.google.com/notebooks/data_table.ipynb>data table notebook</a>'\n",
              "          + ' to learn more about interactive tables.';\n",
              "        element.innerHTML = '';\n",
              "        dataTable['output_type'] = 'display_data';\n",
              "        await google.colab.output.renderOutput(dataTable, element);\n",
              "        const docLink = document.createElement('div');\n",
              "        docLink.innerHTML = docLinkHtml;\n",
              "        element.appendChild(docLink);\n",
              "      }\n",
              "    </script>\n",
              "  </div>\n",
              "\n",
              "\n",
              "<div id=\"df-7b8890fa-9340-4611-be7d-1321d9679fda\">\n",
              "  <button class=\"colab-df-quickchart\" onclick=\"quickchart('df-7b8890fa-9340-4611-be7d-1321d9679fda')\"\n",
              "            title=\"Suggest charts\"\n",
              "            style=\"display:none;\">\n",
              "\n",
              "<svg xmlns=\"http://www.w3.org/2000/svg\" height=\"24px\"viewBox=\"0 0 24 24\"\n",
              "     width=\"24px\">\n",
              "    <g>\n",
              "        <path d=\"M19 3H5c-1.1 0-2 .9-2 2v14c0 1.1.9 2 2 2h14c1.1 0 2-.9 2-2V5c0-1.1-.9-2-2-2zM9 17H7v-7h2v7zm4 0h-2V7h2v10zm4 0h-2v-4h2v4z\"/>\n",
              "    </g>\n",
              "</svg>\n",
              "  </button>\n",
              "\n",
              "<style>\n",
              "  .colab-df-quickchart {\n",
              "      --bg-color: #E8F0FE;\n",
              "      --fill-color: #1967D2;\n",
              "      --hover-bg-color: #E2EBFA;\n",
              "      --hover-fill-color: #174EA6;\n",
              "      --disabled-fill-color: #AAA;\n",
              "      --disabled-bg-color: #DDD;\n",
              "  }\n",
              "\n",
              "  [theme=dark] .colab-df-quickchart {\n",
              "      --bg-color: #3B4455;\n",
              "      --fill-color: #D2E3FC;\n",
              "      --hover-bg-color: #434B5C;\n",
              "      --hover-fill-color: #FFFFFF;\n",
              "      --disabled-bg-color: #3B4455;\n",
              "      --disabled-fill-color: #666;\n",
              "  }\n",
              "\n",
              "  .colab-df-quickchart {\n",
              "    background-color: var(--bg-color);\n",
              "    border: none;\n",
              "    border-radius: 50%;\n",
              "    cursor: pointer;\n",
              "    display: none;\n",
              "    fill: var(--fill-color);\n",
              "    height: 32px;\n",
              "    padding: 0;\n",
              "    width: 32px;\n",
              "  }\n",
              "\n",
              "  .colab-df-quickchart:hover {\n",
              "    background-color: var(--hover-bg-color);\n",
              "    box-shadow: 0 1px 2px rgba(60, 64, 67, 0.3), 0 1px 3px 1px rgba(60, 64, 67, 0.15);\n",
              "    fill: var(--button-hover-fill-color);\n",
              "  }\n",
              "\n",
              "  .colab-df-quickchart-complete:disabled,\n",
              "  .colab-df-quickchart-complete:disabled:hover {\n",
              "    background-color: var(--disabled-bg-color);\n",
              "    fill: var(--disabled-fill-color);\n",
              "    box-shadow: none;\n",
              "  }\n",
              "\n",
              "  .colab-df-spinner {\n",
              "    border: 2px solid var(--fill-color);\n",
              "    border-color: transparent;\n",
              "    border-bottom-color: var(--fill-color);\n",
              "    animation:\n",
              "      spin 1s steps(1) infinite;\n",
              "  }\n",
              "\n",
              "  @keyframes spin {\n",
              "    0% {\n",
              "      border-color: transparent;\n",
              "      border-bottom-color: var(--fill-color);\n",
              "      border-left-color: var(--fill-color);\n",
              "    }\n",
              "    20% {\n",
              "      border-color: transparent;\n",
              "      border-left-color: var(--fill-color);\n",
              "      border-top-color: var(--fill-color);\n",
              "    }\n",
              "    30% {\n",
              "      border-color: transparent;\n",
              "      border-left-color: var(--fill-color);\n",
              "      border-top-color: var(--fill-color);\n",
              "      border-right-color: var(--fill-color);\n",
              "    }\n",
              "    40% {\n",
              "      border-color: transparent;\n",
              "      border-right-color: var(--fill-color);\n",
              "      border-top-color: var(--fill-color);\n",
              "    }\n",
              "    60% {\n",
              "      border-color: transparent;\n",
              "      border-right-color: var(--fill-color);\n",
              "    }\n",
              "    80% {\n",
              "      border-color: transparent;\n",
              "      border-right-color: var(--fill-color);\n",
              "      border-bottom-color: var(--fill-color);\n",
              "    }\n",
              "    90% {\n",
              "      border-color: transparent;\n",
              "      border-bottom-color: var(--fill-color);\n",
              "    }\n",
              "  }\n",
              "</style>\n",
              "\n",
              "  <script>\n",
              "    async function quickchart(key) {\n",
              "      const quickchartButtonEl =\n",
              "        document.querySelector('#' + key + ' button');\n",
              "      quickchartButtonEl.disabled = true;  // To prevent multiple clicks.\n",
              "      quickchartButtonEl.classList.add('colab-df-spinner');\n",
              "      try {\n",
              "        const charts = await google.colab.kernel.invokeFunction(\n",
              "            'suggestCharts', [key], {});\n",
              "      } catch (error) {\n",
              "        console.error('Error during call to suggestCharts:', error);\n",
              "      }\n",
              "      quickchartButtonEl.classList.remove('colab-df-spinner');\n",
              "      quickchartButtonEl.classList.add('colab-df-quickchart-complete');\n",
              "    }\n",
              "    (() => {\n",
              "      let quickchartButtonEl =\n",
              "        document.querySelector('#df-7b8890fa-9340-4611-be7d-1321d9679fda button');\n",
              "      quickchartButtonEl.style.display =\n",
              "        google.colab.kernel.accessAllowed ? 'block' : 'none';\n",
              "    })();\n",
              "  </script>\n",
              "</div>\n",
              "\n",
              "    </div>\n",
              "  </div>\n"
            ],
            "application/vnd.google.colaboratory.intrinsic+json": {
              "type": "dataframe",
              "variable_name": "dataset_train",
              "summary": "{\n  \"name\": \"dataset_train\",\n  \"rows\": 1509,\n  \"fields\": [\n    {\n      \"column\": \"Date\",\n      \"properties\": {\n        \"dtype\": \"string\",\n        \"num_unique_values\": 1509,\n        \"samples\": [\n          \"4/23/2014\",\n          \"7/25/2016\",\n          \"07/12/2013\"\n        ],\n        \"semantic_type\": \"\",\n        \"description\": \"\"\n      }\n    },\n    {\n      \"column\": \"Open\",\n      \"properties\": {\n        \"dtype\": \"number\",\n        \"std\": 202.6072335725472,\n        \"min\": 279.12,\n        \"max\": 1075.199951,\n        \"num_unique_values\": 1459,\n        \"samples\": [\n          980.0,\n          537.21,\n          442.05\n        ],\n        \"semantic_type\": \"\",\n        \"description\": \"\"\n      }\n    },\n    {\n      \"column\": \"High\",\n      \"properties\": {\n        \"dtype\": \"number\",\n        \"std\": 203.7931579825553,\n        \"min\": 281.21,\n        \"max\": 1078.48999,\n        \"num_unique_values\": 1468,\n        \"samples\": [\n          776.96,\n          378.23,\n          791.340027\n        ],\n        \"semantic_type\": \"\",\n        \"description\": \"\"\n      }\n    },\n    {\n      \"column\": \"Low\",\n      \"properties\": {\n        \"dtype\": \"number\",\n        \"std\": 201.41862459116132,\n        \"min\": 277.22,\n        \"max\": 1063.550049,\n        \"num_unique_values\": 1470,\n        \"samples\": [\n          735.56,\n          381.08,\n          770.41\n        ],\n        \"semantic_type\": \"\",\n        \"description\": \"\"\n      }\n    },\n    {\n      \"column\": \"Close\",\n      \"properties\": {\n        \"dtype\": \"string\",\n        \"num_unique_values\": 1489,\n        \"samples\": [\n          \"646.67\",\n          \"823.05\",\n          \"756.94\"\n        ],\n        \"semantic_type\": \"\",\n        \"description\": \"\"\n      }\n    },\n    {\n      \"column\": \"Volume\",\n      \"properties\": {\n        \"dtype\": \"string\",\n        \"num_unique_values\": 1487,\n        \"samples\": [\n          \"1672000\",\n          \"885800\",\n          \"2,726,100\"\n        ],\n        \"semantic_type\": \"\",\n        \"description\": \"\"\n      }\n    }\n  ]\n}"
            }
          },
          "metadata": {},
          "execution_count": 2
        }
      ]
    },
    {
      "cell_type": "code",
      "source": [
        "#keras only takes numpy array\n",
        "training_set = dataset_train.iloc[:, 1: 2].values\n",
        "training_set.shape"
      ],
      "metadata": {
        "colab": {
          "base_uri": "https://localhost:8080/"
        },
        "id": "AKUFJ5Z1sNfd",
        "outputId": "7e7d8643-18dd-4dcd-f21e-876b278cfec6"
      },
      "execution_count": null,
      "outputs": [
        {
          "output_type": "execute_result",
          "data": {
            "text/plain": [
              "(1509, 1)"
            ]
          },
          "metadata": {},
          "execution_count": 3
        }
      ]
    },
    {
      "cell_type": "code",
      "source": [
        "sc = MinMaxScaler(feature_range = (0, 1))\n",
        "\n",
        "training_set_scaled = sc.fit_transform(training_set)"
      ],
      "metadata": {
        "id": "IrraEg00sRES"
      },
      "execution_count": null,
      "outputs": []
    },
    {
      "cell_type": "code",
      "source": [
        "## 60 timesteps and 1 output\n",
        "\n",
        "X_train = []\n",
        "y_train = []\n",
        "\n",
        "for i in range(60, len(training_set_scaled)):\n",
        "    X_train.append(training_set_scaled[i-60: i, 0])\n",
        "    y_train.append(training_set_scaled[i, 0])\n",
        "\n",
        "X_train, y_train = np.array(X_train), np.array(y_train)"
      ],
      "metadata": {
        "id": "RYH9ZvDUsS7b"
      },
      "execution_count": null,
      "outputs": []
    },
    {
      "cell_type": "code",
      "source": [
        "X_train.shape"
      ],
      "metadata": {
        "colab": {
          "base_uri": "https://localhost:8080/"
        },
        "id": "ci_0rOL3sU81",
        "outputId": "1532530f-ad68-4ad7-9c5d-6b334b01597a"
      },
      "execution_count": null,
      "outputs": [
        {
          "output_type": "execute_result",
          "data": {
            "text/plain": [
              "(1449, 60)"
            ]
          },
          "metadata": {},
          "execution_count": 6
        }
      ]
    },
    {
      "cell_type": "code",
      "source": [
        "y_train.shape"
      ],
      "metadata": {
        "colab": {
          "base_uri": "https://localhost:8080/"
        },
        "id": "AfEA00pZsXPG",
        "outputId": "b1290b33-edb7-46df-cd4f-ccfd124b2017"
      },
      "execution_count": null,
      "outputs": [
        {
          "output_type": "execute_result",
          "data": {
            "text/plain": [
              "(1449,)"
            ]
          },
          "metadata": {},
          "execution_count": 7
        }
      ]
    },
    {
      "cell_type": "code",
      "source": [
        "X_train = np.reshape(X_train, newshape = (X_train.shape[0], X_train.shape[1], 1))"
      ],
      "metadata": {
        "id": "w51TH44TsYeP"
      },
      "execution_count": null,
      "outputs": []
    },
    {
      "cell_type": "code",
      "source": [
        "X_train.shape"
      ],
      "metadata": {
        "colab": {
          "base_uri": "https://localhost:8080/"
        },
        "id": "3PFlZc6AsZ-3",
        "outputId": "63acfbcd-6c0a-4a1c-d54c-996f30e9776f"
      },
      "execution_count": null,
      "outputs": [
        {
          "output_type": "execute_result",
          "data": {
            "text/plain": [
              "(1449, 60, 1)"
            ]
          },
          "metadata": {},
          "execution_count": 9
        }
      ]
    },
    {
      "cell_type": "code",
      "source": [
        "# plt.figure(figsize=(18, 8))\n",
        "# plt.plot(dataset_train['Open'])\n",
        "# plt.title(\"Google Stock Open Prices\")\n",
        "# plt.xlabel(\"Time (oldest -> latest)\")\n",
        "# plt.ylabel(\"Stock Open Price\")\n",
        "# plt.show()"
      ],
      "metadata": {
        "id": "x-ylR0aOsbI-"
      },
      "execution_count": null,
      "outputs": []
    },
    {
      "cell_type": "code",
      "source": [
        "# plt.figure(figsize=(18, 8))\n",
        "# plt.plot(dataset_train['Low'])\n",
        "# plt.title(\"Google Stock Low Prices\")\n",
        "# plt.xlabel(\"Time (oldest -> latest)\")\n",
        "# plt.ylabel(\"Stock Lowest Price\")\n",
        "# plt.show()"
      ],
      "metadata": {
        "id": "KjgJMzmTscfX"
      },
      "execution_count": null,
      "outputs": []
    },
    {
      "cell_type": "code",
      "source": [
        "regressor = Sequential()\n",
        "\n",
        "#add 1st lstm layer\n",
        "regressor.add(LSTM(units = 50, return_sequences = True, input_shape = (X_train.shape[1], 1)))\n",
        "regressor.add(Dropout(rate = 0.2))\n",
        "\n",
        "# 2nd lstm layer: 50 neurons\n",
        "regressor.add(LSTM(units = 50, return_sequences = True))\n",
        "regressor.add(Dropout(rate = 0.2))\n",
        "\n",
        "# 3rd lstm layer\n",
        "regressor.add(LSTM(units = 50, return_sequences = True))\n",
        "regressor.add(Dropout(rate = 0.2))\n",
        "\n",
        "# 4th lstm layer\n",
        "regressor.add(LSTM(units = 50, return_sequences = False))\n",
        "regressor.add(Dropout(rate = 0.2))\n",
        "\n",
        "# output layer\n",
        "regressor.add(Dense(units = 1))"
      ],
      "metadata": {
        "id": "euvl_pATsejA"
      },
      "execution_count": null,
      "outputs": []
    },
    {
      "cell_type": "code",
      "source": [
        "regressor.compile(optimizer = 'adam', loss = 'mean_squared_error')"
      ],
      "metadata": {
        "id": "TqQhJF5tshGf"
      },
      "execution_count": null,
      "outputs": []
    },
    {
      "cell_type": "code",
      "source": [
        "regressor.fit(x = X_train, y = y_train, batch_size = 32, epochs = 100)"
      ],
      "metadata": {
        "colab": {
          "base_uri": "https://localhost:8080/"
        },
        "id": "aMFUoeNxsixw",
        "outputId": "818bab22-b676-4be3-ccbf-48ac758fceb8"
      },
      "execution_count": null,
      "outputs": [
        {
          "output_type": "stream",
          "name": "stdout",
          "text": [
            "Epoch 1/100\n",
            "46/46 [==============================] - 13s 102ms/step - loss: 0.0228\n",
            "Epoch 2/100\n",
            "46/46 [==============================] - 8s 183ms/step - loss: 0.0034\n",
            "Epoch 3/100\n",
            "46/46 [==============================] - 8s 168ms/step - loss: 0.0031\n",
            "Epoch 4/100\n",
            "46/46 [==============================] - 6s 129ms/step - loss: 0.0029\n",
            "Epoch 5/100\n",
            "46/46 [==============================] - 6s 128ms/step - loss: 0.0031\n",
            "Epoch 6/100\n",
            "46/46 [==============================] - 8s 169ms/step - loss: 0.0033\n",
            "Epoch 7/100\n",
            "46/46 [==============================] - 4s 98ms/step - loss: 0.0029\n",
            "Epoch 8/100\n",
            "46/46 [==============================] - 5s 109ms/step - loss: 0.0024\n",
            "Epoch 9/100\n",
            "46/46 [==============================] - 5s 108ms/step - loss: 0.0024\n",
            "Epoch 10/100\n",
            "46/46 [==============================] - 6s 136ms/step - loss: 0.0025\n",
            "Epoch 11/100\n",
            "46/46 [==============================] - 7s 160ms/step - loss: 0.0026\n",
            "Epoch 12/100\n",
            "46/46 [==============================] - 5s 98ms/step - loss: 0.0025\n",
            "Epoch 13/100\n",
            "46/46 [==============================] - 6s 120ms/step - loss: 0.0023\n",
            "Epoch 14/100\n",
            "46/46 [==============================] - 4s 98ms/step - loss: 0.0022\n",
            "Epoch 15/100\n",
            "46/46 [==============================] - 5s 112ms/step - loss: 0.0025\n",
            "Epoch 16/100\n",
            "46/46 [==============================] - 5s 108ms/step - loss: 0.0021\n",
            "Epoch 17/100\n",
            "46/46 [==============================] - 6s 126ms/step - loss: 0.0022\n",
            "Epoch 18/100\n",
            "46/46 [==============================] - 7s 152ms/step - loss: 0.0027\n",
            "Epoch 19/100\n",
            "46/46 [==============================] - 5s 108ms/step - loss: 0.0021\n",
            "Epoch 20/100\n",
            "46/46 [==============================] - 7s 142ms/step - loss: 0.0020\n",
            "Epoch 21/100\n",
            "46/46 [==============================] - 5s 113ms/step - loss: 0.0025\n",
            "Epoch 22/100\n",
            "46/46 [==============================] - 11s 244ms/step - loss: 0.0022\n",
            "Epoch 23/100\n",
            "46/46 [==============================] - 7s 144ms/step - loss: 0.0020\n",
            "Epoch 24/100\n",
            "46/46 [==============================] - 7s 150ms/step - loss: 0.0021\n",
            "Epoch 25/100\n",
            "46/46 [==============================] - 9s 199ms/step - loss: 0.0018\n",
            "Epoch 26/100\n",
            "46/46 [==============================] - 6s 140ms/step - loss: 0.0017\n",
            "Epoch 27/100\n",
            "46/46 [==============================] - 8s 174ms/step - loss: 0.0017\n",
            "Epoch 28/100\n",
            "46/46 [==============================] - 6s 135ms/step - loss: 0.0018\n",
            "Epoch 29/100\n",
            "46/46 [==============================] - 5s 109ms/step - loss: 0.0021\n",
            "Epoch 30/100\n",
            "46/46 [==============================] - 4s 98ms/step - loss: 0.0017\n",
            "Epoch 31/100\n",
            "46/46 [==============================] - 6s 139ms/step - loss: 0.0016\n",
            "Epoch 32/100\n",
            "46/46 [==============================] - 6s 122ms/step - loss: 0.0018\n",
            "Epoch 33/100\n",
            "46/46 [==============================] - 6s 121ms/step - loss: 0.0016\n",
            "Epoch 34/100\n",
            "46/46 [==============================] - 4s 97ms/step - loss: 0.0018\n",
            "Epoch 35/100\n",
            "46/46 [==============================] - 4s 97ms/step - loss: 0.0016\n",
            "Epoch 36/100\n",
            "46/46 [==============================] - 5s 120ms/step - loss: 0.0017\n",
            "Epoch 37/100\n",
            "46/46 [==============================] - 4s 97ms/step - loss: 0.0016\n",
            "Epoch 38/100\n",
            "46/46 [==============================] - 5s 117ms/step - loss: 0.0015\n",
            "Epoch 39/100\n",
            "46/46 [==============================] - 5s 98ms/step - loss: 0.0016\n",
            "Epoch 40/100\n",
            "46/46 [==============================] - 4s 97ms/step - loss: 0.0016\n",
            "Epoch 41/100\n",
            "46/46 [==============================] - 6s 120ms/step - loss: 0.0017\n",
            "Epoch 42/100\n",
            "46/46 [==============================] - 4s 98ms/step - loss: 0.0015\n",
            "Epoch 43/100\n",
            "46/46 [==============================] - 5s 110ms/step - loss: 0.0013\n",
            "Epoch 44/100\n",
            "46/46 [==============================] - 5s 118ms/step - loss: 0.0014\n",
            "Epoch 45/100\n",
            "46/46 [==============================] - 5s 98ms/step - loss: 0.0019\n",
            "Epoch 46/100\n",
            "46/46 [==============================] - 6s 121ms/step - loss: 0.0015\n",
            "Epoch 47/100\n",
            "46/46 [==============================] - 5s 118ms/step - loss: 0.0013\n",
            "Epoch 48/100\n",
            "46/46 [==============================] - 6s 122ms/step - loss: 0.0014\n",
            "Epoch 49/100\n",
            "46/46 [==============================] - 5s 99ms/step - loss: 0.0014\n",
            "Epoch 50/100\n",
            "46/46 [==============================] - 5s 100ms/step - loss: 0.0012\n",
            "Epoch 51/100\n",
            "46/46 [==============================] - 6s 121ms/step - loss: 0.0015\n",
            "Epoch 52/100\n",
            "46/46 [==============================] - 5s 99ms/step - loss: 0.0014\n",
            "Epoch 53/100\n",
            "46/46 [==============================] - 5s 113ms/step - loss: 0.0013\n",
            "Epoch 54/100\n",
            "46/46 [==============================] - 5s 106ms/step - loss: 0.0014\n",
            "Epoch 55/100\n",
            "46/46 [==============================] - 5s 99ms/step - loss: 0.0013\n",
            "Epoch 56/100\n",
            "46/46 [==============================] - 6s 121ms/step - loss: 0.0012\n",
            "Epoch 57/100\n",
            "46/46 [==============================] - 5s 98ms/step - loss: 0.0013\n",
            "Epoch 58/100\n",
            "46/46 [==============================] - 5s 104ms/step - loss: 0.0014\n",
            "Epoch 59/100\n",
            "46/46 [==============================] - 5s 113ms/step - loss: 0.0012\n",
            "Epoch 60/100\n",
            "46/46 [==============================] - 4s 98ms/step - loss: 0.0012\n",
            "Epoch 61/100\n",
            "46/46 [==============================] - 6s 122ms/step - loss: 0.0013\n",
            "Epoch 62/100\n",
            "46/46 [==============================] - 5s 98ms/step - loss: 0.0013\n",
            "Epoch 63/100\n",
            "46/46 [==============================] - 5s 99ms/step - loss: 0.0012\n",
            "Epoch 64/100\n",
            "46/46 [==============================] - 6s 121ms/step - loss: 0.0014\n",
            "Epoch 65/100\n",
            "46/46 [==============================] - 5s 101ms/step - loss: 0.0012\n",
            "Epoch 66/100\n",
            "46/46 [==============================] - 6s 123ms/step - loss: 0.0011\n",
            "Epoch 67/100\n",
            "46/46 [==============================] - 4s 98ms/step - loss: 0.0011\n",
            "Epoch 68/100\n",
            "46/46 [==============================] - 4s 97ms/step - loss: 0.0011\n",
            "Epoch 69/100\n",
            "46/46 [==============================] - 5s 120ms/step - loss: 0.0013\n",
            "Epoch 70/100\n",
            "46/46 [==============================] - 4s 97ms/step - loss: 9.6888e-04\n",
            "Epoch 71/100\n",
            "46/46 [==============================] - 5s 119ms/step - loss: 0.0012\n",
            "Epoch 72/100\n",
            "46/46 [==============================] - 5s 98ms/step - loss: 0.0011\n",
            "Epoch 73/100\n",
            "46/46 [==============================] - 5s 100ms/step - loss: 0.0011\n",
            "Epoch 74/100\n",
            "46/46 [==============================] - 6s 120ms/step - loss: 0.0011\n",
            "Epoch 75/100\n",
            "46/46 [==============================] - 5s 99ms/step - loss: 0.0010\n",
            "Epoch 76/100\n",
            "46/46 [==============================] - 5s 112ms/step - loss: 0.0010\n",
            "Epoch 77/100\n",
            "46/46 [==============================] - 5s 105ms/step - loss: 0.0010\n",
            "Epoch 78/100\n",
            "46/46 [==============================] - 5s 98ms/step - loss: 0.0011\n",
            "Epoch 79/100\n",
            "46/46 [==============================] - 6s 121ms/step - loss: 0.0010\n",
            "Epoch 80/100\n",
            "46/46 [==============================] - 5s 98ms/step - loss: 0.0010\n",
            "Epoch 81/100\n",
            "46/46 [==============================] - 5s 103ms/step - loss: 0.0010\n",
            "Epoch 82/100\n",
            "46/46 [==============================] - 5s 114ms/step - loss: 9.9700e-04\n",
            "Epoch 83/100\n",
            "46/46 [==============================] - 5s 99ms/step - loss: 9.7085e-04\n",
            "Epoch 84/100\n",
            "46/46 [==============================] - 5s 119ms/step - loss: 9.7490e-04\n",
            "Epoch 85/100\n",
            "46/46 [==============================] - 5s 100ms/step - loss: 0.0011\n",
            "Epoch 86/100\n",
            "46/46 [==============================] - 5s 98ms/step - loss: 9.7142e-04\n",
            "Epoch 87/100\n",
            "46/46 [==============================] - 6s 122ms/step - loss: 9.9911e-04\n",
            "Epoch 88/100\n",
            "46/46 [==============================] - 5s 98ms/step - loss: 9.7851e-04\n",
            "Epoch 89/100\n",
            "46/46 [==============================] - 6s 122ms/step - loss: 0.0010\n",
            "Epoch 90/100\n",
            "46/46 [==============================] - 5s 98ms/step - loss: 9.3506e-04\n",
            "Epoch 91/100\n",
            "46/46 [==============================] - 5s 99ms/step - loss: 8.9284e-04\n",
            "Epoch 92/100\n",
            "46/46 [==============================] - 6s 121ms/step - loss: 8.8904e-04\n",
            "Epoch 93/100\n",
            "46/46 [==============================] - 5s 98ms/step - loss: 8.0577e-04\n",
            "Epoch 94/100\n",
            "46/46 [==============================] - 5s 118ms/step - loss: 9.7058e-04\n",
            "Epoch 95/100\n",
            "46/46 [==============================] - 5s 100ms/step - loss: 9.4052e-04\n",
            "Epoch 96/100\n",
            "46/46 [==============================] - 5s 99ms/step - loss: 9.5558e-04\n",
            "Epoch 97/100\n",
            "46/46 [==============================] - 6s 121ms/step - loss: 8.8167e-04\n",
            "Epoch 98/100\n",
            "46/46 [==============================] - 5s 98ms/step - loss: 8.7791e-04\n",
            "Epoch 99/100\n",
            "46/46 [==============================] - 5s 110ms/step - loss: 9.3687e-04\n",
            "Epoch 100/100\n",
            "46/46 [==============================] - 5s 107ms/step - loss: 8.8962e-04\n"
          ]
        },
        {
          "output_type": "execute_result",
          "data": {
            "text/plain": [
              "<keras.src.callbacks.History at 0x79dde06cd570>"
            ]
          },
          "metadata": {},
          "execution_count": 16
        }
      ]
    },
    {
      "cell_type": "code",
      "source": [
        "dataset_test = pd.read_csv('https://raw.githubusercontent.com/PROxZIMA/Academic-Codes/master/Semester%208/LP5/DL/4/Google_Stock_Price_Test.csv')\n",
        "dataset_test.head()"
      ],
      "metadata": {
        "colab": {
          "base_uri": "https://localhost:8080/",
          "height": 206
        },
        "id": "pOefF9KnskQI",
        "outputId": "585aa3f3-324d-4055-c436-771991b36426"
      },
      "execution_count": null,
      "outputs": [
        {
          "output_type": "execute_result",
          "data": {
            "text/plain": [
              "         Date         Open         High          Low        Close   Volume\n",
              "0  02/01/2018  1048.339966  1066.939941  1045.229980  1065.000000  1237600\n",
              "1  03/01/2018  1064.310059  1086.290039  1063.209961  1082.479980  1430200\n",
              "2  04/01/2018  1088.000000  1093.569946  1084.001953  1086.400024  1004600\n",
              "3  05/01/2018  1094.000000  1104.250000  1092.000000  1102.229980  1279100\n",
              "4  08/01/2018  1102.229980  1111.270020  1101.619995  1106.939941  1047600"
            ],
            "text/html": [
              "\n",
              "  <div id=\"df-82c8e4c6-3922-4449-8ac4-72c3a1d51f33\" class=\"colab-df-container\">\n",
              "    <div>\n",
              "<style scoped>\n",
              "    .dataframe tbody tr th:only-of-type {\n",
              "        vertical-align: middle;\n",
              "    }\n",
              "\n",
              "    .dataframe tbody tr th {\n",
              "        vertical-align: top;\n",
              "    }\n",
              "\n",
              "    .dataframe thead th {\n",
              "        text-align: right;\n",
              "    }\n",
              "</style>\n",
              "<table border=\"1\" class=\"dataframe\">\n",
              "  <thead>\n",
              "    <tr style=\"text-align: right;\">\n",
              "      <th></th>\n",
              "      <th>Date</th>\n",
              "      <th>Open</th>\n",
              "      <th>High</th>\n",
              "      <th>Low</th>\n",
              "      <th>Close</th>\n",
              "      <th>Volume</th>\n",
              "    </tr>\n",
              "  </thead>\n",
              "  <tbody>\n",
              "    <tr>\n",
              "      <th>0</th>\n",
              "      <td>02/01/2018</td>\n",
              "      <td>1048.339966</td>\n",
              "      <td>1066.939941</td>\n",
              "      <td>1045.229980</td>\n",
              "      <td>1065.000000</td>\n",
              "      <td>1237600</td>\n",
              "    </tr>\n",
              "    <tr>\n",
              "      <th>1</th>\n",
              "      <td>03/01/2018</td>\n",
              "      <td>1064.310059</td>\n",
              "      <td>1086.290039</td>\n",
              "      <td>1063.209961</td>\n",
              "      <td>1082.479980</td>\n",
              "      <td>1430200</td>\n",
              "    </tr>\n",
              "    <tr>\n",
              "      <th>2</th>\n",
              "      <td>04/01/2018</td>\n",
              "      <td>1088.000000</td>\n",
              "      <td>1093.569946</td>\n",
              "      <td>1084.001953</td>\n",
              "      <td>1086.400024</td>\n",
              "      <td>1004600</td>\n",
              "    </tr>\n",
              "    <tr>\n",
              "      <th>3</th>\n",
              "      <td>05/01/2018</td>\n",
              "      <td>1094.000000</td>\n",
              "      <td>1104.250000</td>\n",
              "      <td>1092.000000</td>\n",
              "      <td>1102.229980</td>\n",
              "      <td>1279100</td>\n",
              "    </tr>\n",
              "    <tr>\n",
              "      <th>4</th>\n",
              "      <td>08/01/2018</td>\n",
              "      <td>1102.229980</td>\n",
              "      <td>1111.270020</td>\n",
              "      <td>1101.619995</td>\n",
              "      <td>1106.939941</td>\n",
              "      <td>1047600</td>\n",
              "    </tr>\n",
              "  </tbody>\n",
              "</table>\n",
              "</div>\n",
              "    <div class=\"colab-df-buttons\">\n",
              "\n",
              "  <div class=\"colab-df-container\">\n",
              "    <button class=\"colab-df-convert\" onclick=\"convertToInteractive('df-82c8e4c6-3922-4449-8ac4-72c3a1d51f33')\"\n",
              "            title=\"Convert this dataframe to an interactive table.\"\n",
              "            style=\"display:none;\">\n",
              "\n",
              "  <svg xmlns=\"http://www.w3.org/2000/svg\" height=\"24px\" viewBox=\"0 -960 960 960\">\n",
              "    <path d=\"M120-120v-720h720v720H120Zm60-500h600v-160H180v160Zm220 220h160v-160H400v160Zm0 220h160v-160H400v160ZM180-400h160v-160H180v160Zm440 0h160v-160H620v160ZM180-180h160v-160H180v160Zm440 0h160v-160H620v160Z\"/>\n",
              "  </svg>\n",
              "    </button>\n",
              "\n",
              "  <style>\n",
              "    .colab-df-container {\n",
              "      display:flex;\n",
              "      gap: 12px;\n",
              "    }\n",
              "\n",
              "    .colab-df-convert {\n",
              "      background-color: #E8F0FE;\n",
              "      border: none;\n",
              "      border-radius: 50%;\n",
              "      cursor: pointer;\n",
              "      display: none;\n",
              "      fill: #1967D2;\n",
              "      height: 32px;\n",
              "      padding: 0 0 0 0;\n",
              "      width: 32px;\n",
              "    }\n",
              "\n",
              "    .colab-df-convert:hover {\n",
              "      background-color: #E2EBFA;\n",
              "      box-shadow: 0px 1px 2px rgba(60, 64, 67, 0.3), 0px 1px 3px 1px rgba(60, 64, 67, 0.15);\n",
              "      fill: #174EA6;\n",
              "    }\n",
              "\n",
              "    .colab-df-buttons div {\n",
              "      margin-bottom: 4px;\n",
              "    }\n",
              "\n",
              "    [theme=dark] .colab-df-convert {\n",
              "      background-color: #3B4455;\n",
              "      fill: #D2E3FC;\n",
              "    }\n",
              "\n",
              "    [theme=dark] .colab-df-convert:hover {\n",
              "      background-color: #434B5C;\n",
              "      box-shadow: 0px 1px 3px 1px rgba(0, 0, 0, 0.15);\n",
              "      filter: drop-shadow(0px 1px 2px rgba(0, 0, 0, 0.3));\n",
              "      fill: #FFFFFF;\n",
              "    }\n",
              "  </style>\n",
              "\n",
              "    <script>\n",
              "      const buttonEl =\n",
              "        document.querySelector('#df-82c8e4c6-3922-4449-8ac4-72c3a1d51f33 button.colab-df-convert');\n",
              "      buttonEl.style.display =\n",
              "        google.colab.kernel.accessAllowed ? 'block' : 'none';\n",
              "\n",
              "      async function convertToInteractive(key) {\n",
              "        const element = document.querySelector('#df-82c8e4c6-3922-4449-8ac4-72c3a1d51f33');\n",
              "        const dataTable =\n",
              "          await google.colab.kernel.invokeFunction('convertToInteractive',\n",
              "                                                    [key], {});\n",
              "        if (!dataTable) return;\n",
              "\n",
              "        const docLinkHtml = 'Like what you see? Visit the ' +\n",
              "          '<a target=\"_blank\" href=https://colab.research.google.com/notebooks/data_table.ipynb>data table notebook</a>'\n",
              "          + ' to learn more about interactive tables.';\n",
              "        element.innerHTML = '';\n",
              "        dataTable['output_type'] = 'display_data';\n",
              "        await google.colab.output.renderOutput(dataTable, element);\n",
              "        const docLink = document.createElement('div');\n",
              "        docLink.innerHTML = docLinkHtml;\n",
              "        element.appendChild(docLink);\n",
              "      }\n",
              "    </script>\n",
              "  </div>\n",
              "\n",
              "\n",
              "<div id=\"df-099b8e1a-42ea-4c49-abf7-88305e29b162\">\n",
              "  <button class=\"colab-df-quickchart\" onclick=\"quickchart('df-099b8e1a-42ea-4c49-abf7-88305e29b162')\"\n",
              "            title=\"Suggest charts\"\n",
              "            style=\"display:none;\">\n",
              "\n",
              "<svg xmlns=\"http://www.w3.org/2000/svg\" height=\"24px\"viewBox=\"0 0 24 24\"\n",
              "     width=\"24px\">\n",
              "    <g>\n",
              "        <path d=\"M19 3H5c-1.1 0-2 .9-2 2v14c0 1.1.9 2 2 2h14c1.1 0 2-.9 2-2V5c0-1.1-.9-2-2-2zM9 17H7v-7h2v7zm4 0h-2V7h2v10zm4 0h-2v-4h2v4z\"/>\n",
              "    </g>\n",
              "</svg>\n",
              "  </button>\n",
              "\n",
              "<style>\n",
              "  .colab-df-quickchart {\n",
              "      --bg-color: #E8F0FE;\n",
              "      --fill-color: #1967D2;\n",
              "      --hover-bg-color: #E2EBFA;\n",
              "      --hover-fill-color: #174EA6;\n",
              "      --disabled-fill-color: #AAA;\n",
              "      --disabled-bg-color: #DDD;\n",
              "  }\n",
              "\n",
              "  [theme=dark] .colab-df-quickchart {\n",
              "      --bg-color: #3B4455;\n",
              "      --fill-color: #D2E3FC;\n",
              "      --hover-bg-color: #434B5C;\n",
              "      --hover-fill-color: #FFFFFF;\n",
              "      --disabled-bg-color: #3B4455;\n",
              "      --disabled-fill-color: #666;\n",
              "  }\n",
              "\n",
              "  .colab-df-quickchart {\n",
              "    background-color: var(--bg-color);\n",
              "    border: none;\n",
              "    border-radius: 50%;\n",
              "    cursor: pointer;\n",
              "    display: none;\n",
              "    fill: var(--fill-color);\n",
              "    height: 32px;\n",
              "    padding: 0;\n",
              "    width: 32px;\n",
              "  }\n",
              "\n",
              "  .colab-df-quickchart:hover {\n",
              "    background-color: var(--hover-bg-color);\n",
              "    box-shadow: 0 1px 2px rgba(60, 64, 67, 0.3), 0 1px 3px 1px rgba(60, 64, 67, 0.15);\n",
              "    fill: var(--button-hover-fill-color);\n",
              "  }\n",
              "\n",
              "  .colab-df-quickchart-complete:disabled,\n",
              "  .colab-df-quickchart-complete:disabled:hover {\n",
              "    background-color: var(--disabled-bg-color);\n",
              "    fill: var(--disabled-fill-color);\n",
              "    box-shadow: none;\n",
              "  }\n",
              "\n",
              "  .colab-df-spinner {\n",
              "    border: 2px solid var(--fill-color);\n",
              "    border-color: transparent;\n",
              "    border-bottom-color: var(--fill-color);\n",
              "    animation:\n",
              "      spin 1s steps(1) infinite;\n",
              "  }\n",
              "\n",
              "  @keyframes spin {\n",
              "    0% {\n",
              "      border-color: transparent;\n",
              "      border-bottom-color: var(--fill-color);\n",
              "      border-left-color: var(--fill-color);\n",
              "    }\n",
              "    20% {\n",
              "      border-color: transparent;\n",
              "      border-left-color: var(--fill-color);\n",
              "      border-top-color: var(--fill-color);\n",
              "    }\n",
              "    30% {\n",
              "      border-color: transparent;\n",
              "      border-left-color: var(--fill-color);\n",
              "      border-top-color: var(--fill-color);\n",
              "      border-right-color: var(--fill-color);\n",
              "    }\n",
              "    40% {\n",
              "      border-color: transparent;\n",
              "      border-right-color: var(--fill-color);\n",
              "      border-top-color: var(--fill-color);\n",
              "    }\n",
              "    60% {\n",
              "      border-color: transparent;\n",
              "      border-right-color: var(--fill-color);\n",
              "    }\n",
              "    80% {\n",
              "      border-color: transparent;\n",
              "      border-right-color: var(--fill-color);\n",
              "      border-bottom-color: var(--fill-color);\n",
              "    }\n",
              "    90% {\n",
              "      border-color: transparent;\n",
              "      border-bottom-color: var(--fill-color);\n",
              "    }\n",
              "  }\n",
              "</style>\n",
              "\n",
              "  <script>\n",
              "    async function quickchart(key) {\n",
              "      const quickchartButtonEl =\n",
              "        document.querySelector('#' + key + ' button');\n",
              "      quickchartButtonEl.disabled = true;  // To prevent multiple clicks.\n",
              "      quickchartButtonEl.classList.add('colab-df-spinner');\n",
              "      try {\n",
              "        const charts = await google.colab.kernel.invokeFunction(\n",
              "            'suggestCharts', [key], {});\n",
              "      } catch (error) {\n",
              "        console.error('Error during call to suggestCharts:', error);\n",
              "      }\n",
              "      quickchartButtonEl.classList.remove('colab-df-spinner');\n",
              "      quickchartButtonEl.classList.add('colab-df-quickchart-complete');\n",
              "    }\n",
              "    (() => {\n",
              "      let quickchartButtonEl =\n",
              "        document.querySelector('#df-099b8e1a-42ea-4c49-abf7-88305e29b162 button');\n",
              "      quickchartButtonEl.style.display =\n",
              "        google.colab.kernel.accessAllowed ? 'block' : 'none';\n",
              "    })();\n",
              "  </script>\n",
              "</div>\n",
              "\n",
              "    </div>\n",
              "  </div>\n"
            ],
            "application/vnd.google.colaboratory.intrinsic+json": {
              "type": "dataframe",
              "variable_name": "dataset_test",
              "summary": "{\n  \"name\": \"dataset_test\",\n  \"rows\": 125,\n  \"fields\": [\n    {\n      \"column\": \"Date\",\n      \"properties\": {\n        \"dtype\": \"string\",\n        \"num_unique_values\": 125,\n        \"samples\": [\n          \"29/01/2018\",\n          \"05/03/2018\",\n          \"23/02/2018\"\n        ],\n        \"semantic_type\": \"\",\n        \"description\": \"\"\n      }\n    },\n    {\n      \"column\": \"Open\",\n      \"properties\": {\n        \"dtype\": \"number\",\n        \"std\": 47.79342863860253,\n        \"min\": 993.409973,\n        \"max\": 1177.329956,\n        \"num_unique_values\": 124,\n        \"samples\": [\n          1176.47998,\n          1075.140015,\n          1112.640015\n        ],\n        \"semantic_type\": \"\",\n        \"description\": \"\"\n      }\n    },\n    {\n      \"column\": \"High\",\n      \"properties\": {\n        \"dtype\": \"number\",\n        \"std\": 45.2207280418645,\n        \"min\": 1020.98999,\n        \"max\": 1186.890015,\n        \"num_unique_values\": 125,\n        \"samples\": [\n          1186.890015,\n          1097.099976,\n          1127.280029\n        ],\n        \"semantic_type\": \"\",\n        \"description\": \"\"\n      }\n    },\n    {\n      \"column\": \"Low\",\n      \"properties\": {\n        \"dtype\": \"number\",\n        \"std\": 49.907919085837946,\n        \"min\": 980.640015,\n        \"max\": 1171.97998,\n        \"num_unique_values\": 124,\n        \"samples\": [\n          1171.97998,\n          1069.0,\n          1104.713989\n        ],\n        \"semantic_type\": \"\",\n        \"description\": \"\"\n      }\n    },\n    {\n      \"column\": \"Close\",\n      \"properties\": {\n        \"dtype\": \"number\",\n        \"std\": 48.04455096387223,\n        \"min\": 1001.52002,\n        \"max\": 1175.839966,\n        \"num_unique_values\": 125,\n        \"samples\": [\n          1175.579956,\n          1090.930054,\n          1126.790039\n        ],\n        \"semantic_type\": \"\",\n        \"description\": \"\"\n      }\n    },\n    {\n      \"column\": \"Volume\",\n      \"properties\": {\n        \"dtype\": \"number\",\n        \"std\": 720763,\n        \"min\": 756800,\n        \"max\": 4857900,\n        \"num_unique_values\": 125,\n        \"samples\": [\n          1378900,\n          1202200,\n          1261000\n        ],\n        \"semantic_type\": \"\",\n        \"description\": \"\"\n      }\n    }\n  ]\n}"
            }
          },
          "metadata": {},
          "execution_count": 17
        }
      ]
    },
    {
      "cell_type": "code",
      "source": [
        "#keras only takes numpy array\n",
        "real_stock_price = dataset_test.iloc[:, 1: 2].values\n",
        "real_stock_price.shape"
      ],
      "metadata": {
        "colab": {
          "base_uri": "https://localhost:8080/"
        },
        "id": "d42EY7d8srxk",
        "outputId": "68a1c426-f40b-450f-dcac-a80948cc03c0"
      },
      "execution_count": null,
      "outputs": [
        {
          "output_type": "execute_result",
          "data": {
            "text/plain": [
              "(125, 1)"
            ]
          },
          "metadata": {},
          "execution_count": 18
        }
      ]
    },
    {
      "cell_type": "code",
      "source": [
        "#vertical concat use 0, horizontal uses 1\n",
        "dataset_total = pd.concat((dataset_train['Open'], dataset_test['Open']),\n",
        "                          axis = 0)\n",
        "##use .values to make numpy array\n",
        "inputs = dataset_total[len(dataset_total) - len(dataset_test) - 60:].values"
      ],
      "metadata": {
        "id": "nk7dqBnxssMS"
      },
      "execution_count": null,
      "outputs": []
    },
    {
      "cell_type": "code",
      "source": [
        "#reshape data to only have 1 col\n",
        "inputs = inputs.reshape(-1, 1)\n",
        "\n",
        "#scale input\n",
        "inputs = sc.transform(inputs)"
      ],
      "metadata": {
        "id": "ei9tiXKtsul5"
      },
      "execution_count": null,
      "outputs": []
    },
    {
      "cell_type": "code",
      "source": [
        "X_test = []\n",
        "for i in range(60, len(inputs)):\n",
        "    X_test.append(inputs[i-60:i, 0])\n",
        "X_test = np.array(X_test)\n",
        "\n",
        "#add dimension of indicator\n",
        "X_test = np.reshape(X_test, (X_test.shape[0], X_test.shape[1], 1))"
      ],
      "metadata": {
        "id": "lDP2VIeJs0xn"
      },
      "execution_count": null,
      "outputs": []
    },
    {
      "cell_type": "code",
      "source": [
        "X_test.shape"
      ],
      "metadata": {
        "colab": {
          "base_uri": "https://localhost:8080/"
        },
        "id": "u-cxP6MHs2ih",
        "outputId": "e6dffeb5-db82-4825-bc9b-09950d47ee6e"
      },
      "execution_count": null,
      "outputs": [
        {
          "output_type": "execute_result",
          "data": {
            "text/plain": [
              "(125, 60, 1)"
            ]
          },
          "metadata": {},
          "execution_count": 22
        }
      ]
    },
    {
      "cell_type": "code",
      "source": [
        "predicted_stock_price = regressor.predict(X_test)"
      ],
      "metadata": {
        "colab": {
          "base_uri": "https://localhost:8080/"
        },
        "id": "eq8L0mZZs4So",
        "outputId": "9cee4989-8385-4826-c80e-8fd2220d476c"
      },
      "execution_count": null,
      "outputs": [
        {
          "output_type": "stream",
          "name": "stdout",
          "text": [
            "4/4 [==============================] - 2s 27ms/step\n"
          ]
        }
      ]
    },
    {
      "cell_type": "code",
      "source": [
        "#inverse the scaled value\n",
        "predicted_stock_price = sc.inverse_transform(predicted_stock_price)"
      ],
      "metadata": {
        "id": "ZiUDnJ1Xs5zB"
      },
      "execution_count": null,
      "outputs": []
    },
    {
      "cell_type": "code",
      "source": [
        "##visualize the prediction and real price\n",
        "plt.plot(real_stock_price, color = 'red', label = 'Real price')\n",
        "plt.plot(predicted_stock_price, color = 'blue', label = 'Predicted price')\n",
        "\n",
        "plt.title('Google price prediction')\n",
        "plt.xlabel('Time')\n",
        "plt.ylabel('Price')\n",
        "plt.legend()\n",
        "plt.show()"
      ],
      "metadata": {
        "colab": {
          "base_uri": "https://localhost:8080/",
          "height": 472
        },
        "id": "ouaLaAA8s7e5",
        "outputId": "cd7d1aa8-5134-4ed1-c78e-adf52ae9cb1a"
      },
      "execution_count": null,
      "outputs": [
        {
          "output_type": "display_data",
          "data": {
            "text/plain": [
              "<Figure size 640x480 with 1 Axes>"
            ],
            "image/png": "[encoded data removed]"
          },
          "metadata": {}
        }
      ]
    },
    {
      "cell_type": "markdown",
      "source": [
        "# Simple Version... still in progress!"
      ],
      "metadata": {
        "id": "fUUobu9Es9us"
      }
    },
    {
      "cell_type": "code",
      "source": [
        "import pandas as pd\n",
        "import numpy as np\n",
        "from sklearn.preprocessing import MinMaxScaler\n",
        "from keras.models import Sequential\n",
        "from keras.layers import Dense, LSTM\n",
        "from sklearn.metrics import mean_absolute_error, mean_squared_error\n",
        "import tensorflow as tf\n",
        "tf.config.run_functions_eagerly(True)"
      ],
      "metadata": {
        "id": "sr-OS9Xfs9YI"
      },
      "execution_count": null,
      "outputs": []
    },
    {
      "cell_type": "code",
      "source": [
        "data = pd.read_csv('https://raw.githubusercontent.com/SameerBramhecha/LP-5/master/DL/goog1.csv')\n",
        "\n",
        "scaler = MinMaxScaler(feature_range=(0, 1))\n",
        "scaled_data = scaler.fit_transform(data['Close'].values.reshape(-1, 1))"
      ],
      "metadata": {
        "id": "SSIdsVIV50Sr"
      },
      "execution_count": null,
      "outputs": []
    },
    {
      "cell_type": "code",
      "source": [
        "train_data = scaled_data[:int(len(scaled_data) * 0.8)]\n",
        "\n",
        "test_data = scaled_data[int(len(scaled_data) * 0.8):]"
      ],
      "metadata": {
        "id": "quq9B5WlvrMT"
      },
      "execution_count": null,
      "outputs": []
    },
    {
      "cell_type": "code",
      "source": [
        "def create_sequences(data, time_steps=6):\n",
        "    X = []\n",
        "    y = []\n",
        "    for i in range(len(data) - time_steps):\n",
        "        X.append(data[i:i+time_steps, 0])\n",
        "        y.append(data[i+time_steps, 0])\n",
        "    return np.array(X), np.array(y)"
      ],
      "metadata": {
        "id": "nm4WIJNW6ASO"
      },
      "execution_count": null,
      "outputs": []
    },
    {
      "cell_type": "code",
      "source": [
        "X_train, y_train = create_sequences(train_data)\n",
        "X_test, y_test = create_sequences(test_data)"
      ],
      "metadata": {
        "id": "yqjtUc256B-s"
      },
      "execution_count": null,
      "outputs": []
    },
    {
      "cell_type": "code",
      "source": [
        "model = Sequential()\n",
        "\n",
        "model.add(LSTM(units=50, return_sequences=True, input_shape=(X_train.shape[1], 1)))\n",
        "model.add(LSTM(units=50))\n",
        "model.add(Dense(units=1))\n",
        "\n",
        "model.compile(optimizer='adam', loss='mean_squared_error')\n",
        "\n",
        "model.fit(X_train, y_train, epochs=50, batch_size=4)"
      ],
      "metadata": {
        "id": "VO-ld9ox6DkG"
      },
      "execution_count": null,
      "outputs": []
    },
    {
      "cell_type": "code",
      "source": [
        "y_pred = model.predict(X_test)\n",
        "y_pred = scaler.inverse_transform(y_pred)\n",
        "y_test = scaler.inverse_transform(y_test.reshape(-1, 1))"
      ],
      "metadata": {
        "colab": {
          "base_uri": "https://localhost:8080/"
        },
        "id": "rcBvlPx06Hkm",
        "outputId": "bedddbaa-4a15-499b-f27f-a7f5345a796d"
      },
      "execution_count": null,
      "outputs": [
        {
          "output_type": "stream",
          "name": "stdout",
          "text": [
            "1/1 [==============================] - 0s 54ms/step\n"
          ]
        }
      ]
    },
    {
      "cell_type": "code",
      "source": [
        "mae = mean_absolute_error(y_test, y_pred)\n",
        "mse = mean_squared_error(y_test, y_pred)\n",
        "rmse = np.sqrt(mse)\n",
        "print('MAE: ', mae)\n",
        "print('MSE: ', mse)\n",
        "print('RMSE: ', rmse)"
      ],
      "metadata": {
        "colab": {
          "base_uri": "https://localhost:8080/"
        },
        "id": "LCGl2X686KHC",
        "outputId": "defc73c3-c950-422f-f71e-42e58bde6576"
      },
      "execution_count": null,
      "outputs": [
        {
          "output_type": "stream",
          "name": "stdout",
          "text": [
            "MAE:  13.642490868861598\n",
            "MSE:  189.68736468475632\n",
            "RMSE:  13.772703608397165\n"
          ]
        }
      ]
    },
    {
      "cell_type": "code",
      "source": [
        "last_6_days = data['Close'][-6:].values\n",
        "last_6_days_scaled = scaler.transform(last_6_days.reshape(-1, 1))\n",
        "X_pred = []\n",
        "X_pred.append(last_6_days_scaled)\n",
        "X_pred = np.array(X_pred)\n",
        "X_pred = np.reshape(X_pred, (X_pred.shape[0], X_pred.shape[1], 1))"
      ],
      "metadata": {
        "id": "x5tJnU9C6Lhp"
      },
      "execution_count": null,
      "outputs": []
    },
    {
      "cell_type": "code",
      "source": [
        "pred_price = model.predict(X_pred)\n",
        "pred_price = scaler.inverse_transform(pred_price)\n",
        "\n",
        "print('Predicted price for the next day: ', pred_price)"
      ],
      "metadata": {
        "colab": {
          "base_uri": "https://localhost:8080/"
        },
        "id": "cHSQ0DFd6N7f",
        "outputId": "7c9a4832-0078-4d68-af8a-c0622feed709"
      },
      "execution_count": null,
      "outputs": [
        {
          "output_type": "stream",
          "name": "stdout",
          "text": [
            "1/1 [==============================] - 0s 49ms/step\n",
            "Predicted price for the next day:  [[836.2109]]\n"
          ]
        },
        {
          "output_type": "stream",
          "name": "stderr",
          "text": [
            "/usr/local/lib/python3.10/dist-packages/tensorflow/python/data/ops/structured_function.py:258: UserWarning: Even though the `tf.config.experimental_run_functions_eagerly` option is set, this option does not apply to tf.data functions. To force eager execution of tf.data functions, please use `tf.data.experimental.enable_debug_mode()`.\n",
            "  warnings.warn(\n"
          ]
        }
      ]
    },
    {
      "cell_type": "code",
      "source": [
        "import matplotlib.pyplot as plt\n",
        "\n",
        "# Plotting the original test data\n",
        "plt.plot(y_test, label='Actual Price')\n",
        "\n",
        "# Plotting the predicted prices\n",
        "plt.plot(y_pred, label='Predicted Price')\n",
        "\n",
        "plt.title('Actual vs Predicted Price')\n",
        "plt.xlabel('Time')\n",
        "plt.ylabel('Price')\n",
        "plt.legend()\n",
        "plt.grid(True)\n",
        "plt.show()"
      ],
      "metadata": {
        "colab": {
          "base_uri": "https://localhost:8080/",
          "height": 472
        },
        "id": "CSyXmYOD6Vai",
        "outputId": "ba0aba16-6f9a-43db-a833-701b32b96bd6"
      },
      "execution_count": null,
      "outputs": [
        {
          "output_type": "display_data",
          "data": {
            "text/plain": [
              "<Figure size 640x480 with 1 Axes>"
            ],
            "image/png": "[encoded data removed]"
          },
          "metadata": {}
        }
      ]
    },
    {
      "cell_type": "code",
      "source": [],
      "metadata": {
        "id": "UcBdcBFA9j5U"
      },
      "execution_count": null,
      "outputs": []
    }
  ]
}